{
  "nbformat": 4,
  "nbformat_minor": 0,
  "metadata": {
    "colab": {
      "provenance": [],
      "authorship_tag": "ABX9TyMasxi+V/P102ufYpcsEOLs",
      "include_colab_link": true
    },
    "kernelspec": {
      "name": "python3",
      "display_name": "Python 3"
    },
    "language_info": {
      "name": "python"
    }
  },
  "cells": [
    {
      "cell_type": "markdown",
      "metadata": {
        "id": "view-in-github",
        "colab_type": "text"
      },
      "source": [
        "<a href=\"https://colab.research.google.com/github/cupoglee/100_days_python/blob/main/ReversedString.ipynb\" target=\"_parent\"><img src=\"https://colab.research.google.com/assets/colab-badge.svg\" alt=\"Open In Colab\"/></a>"
      ]
    },
    {
      "cell_type": "code",
      "execution_count": 1,
      "metadata": {
        "colab": {
          "base_uri": "https://localhost:8080/"
        },
        "id": "E5d9AiU3RbfA",
        "outputId": "1f004748-4b7b-4590-b68a-b757812f0ba5"
      },
      "outputs": [
        {
          "output_type": "stream",
          "name": "stdout",
          "text": [
            "Enter a string that you want to input.Hello World, this world is beautiful\n",
            "lufituaeb si dlrow siht ,dlroW olleH\n",
            "beautiful is world this World, Hello\n"
          ]
        }
      ],
      "source": [
        "n = input(\"Enter a string that you want to input.\")\n",
        "#To print the reverse letters\n",
        "print(n[::-1]) #This is the slicing syntax for python\n",
        "\n",
        "#To print the words in reversed way\n",
        "n = n.split()\n",
        "print(\" \".join(n[::-1]))"
      ]
    },
    {
      "cell_type": "code",
      "source": [],
      "metadata": {
        "id": "ysimp_AFR7Ox"
      },
      "execution_count": null,
      "outputs": []
    }
  ]
}